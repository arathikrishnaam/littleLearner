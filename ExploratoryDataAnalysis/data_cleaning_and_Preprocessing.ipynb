{
 "cells": [
  {
   "cell_type": "code",
   "execution_count": null,
   "id": "d141291a-a997-4c3a-8a61-ab43c12d0345",
   "metadata": {},
   "outputs": [],
   "source": [
    "#Import the dataset and explore basic info"
   ]
  },
  {
   "cell_type": "code",
   "execution_count": 6,
   "id": "873e999c-4160-465f-a6c4-ea6e363dfe17",
   "metadata": {},
   "outputs": [
    {
     "name": "stdout",
     "output_type": "stream",
     "text": [
      "<class 'pandas.core.frame.DataFrame'>\n",
      "RangeIndex: 891 entries, 0 to 890\n",
      "Data columns (total 12 columns):\n",
      " #   Column       Non-Null Count  Dtype  \n",
      "---  ------       --------------  -----  \n",
      " 0   PassengerId  891 non-null    int64  \n",
      " 1   Survived     891 non-null    int64  \n",
      " 2   Pclass       891 non-null    int64  \n",
      " 3   Name         891 non-null    object \n",
      " 4   Sex          891 non-null    object \n",
      " 5   Age          714 non-null    float64\n",
      " 6   SibSp        891 non-null    int64  \n",
      " 7   Parch        891 non-null    int64  \n",
      " 8   Ticket       891 non-null    object \n",
      " 9   Fare         891 non-null    float64\n",
      " 10  Cabin        204 non-null    object \n",
      " 11  Embarked     889 non-null    object \n",
      "dtypes: float64(2), int64(5), object(5)\n",
      "memory usage: 83.7+ KB\n",
      "None\n",
      "PassengerId      0\n",
      "Survived         0\n",
      "Pclass           0\n",
      "Name             0\n",
      "Sex              0\n",
      "Age            177\n",
      "SibSp            0\n",
      "Parch            0\n",
      "Ticket           0\n",
      "Fare             0\n",
      "Cabin          687\n",
      "Embarked         2\n",
      "dtype: int64\n",
      "   PassengerId  Survived  Pclass  \\\n",
      "0            1         0       3   \n",
      "1            2         1       1   \n",
      "2            3         1       3   \n",
      "3            4         1       1   \n",
      "4            5         0       3   \n",
      "\n",
      "                                                Name     Sex   Age  SibSp  \\\n",
      "0                            Braund, Mr. Owen Harris    male  22.0      1   \n",
      "1  Cumings, Mrs. John Bradley (Florence Briggs Th...  female  38.0      1   \n",
      "2                             Heikkinen, Miss. Laina  female  26.0      0   \n",
      "3       Futrelle, Mrs. Jacques Heath (Lily May Peel)  female  35.0      1   \n",
      "4                           Allen, Mr. William Henry    male  35.0      0   \n",
      "\n",
      "   Parch            Ticket     Fare Cabin Embarked  \n",
      "0      0         A/5 21171   7.2500   NaN        S  \n",
      "1      0          PC 17599  71.2833   C85        C  \n",
      "2      0  STON/O2. 3101282   7.9250   NaN        S  \n",
      "3      0            113803  53.1000  C123        S  \n",
      "4      0            373450   8.0500   NaN        S  \n"
     ]
    }
   ],
   "source": [
    "import pandas as pd\n",
    "\n",
    "# Path to the dataset\n",
    "file_path = r\"C:\\Users\\91907\\Downloads\\Titanic-Dataset.csv\"\n",
    "\n",
    "# Show basic information\n",
    "print(df.info())\n",
    "print(df.isnull().sum())\n",
    "print(df.head())"
   ]
  },
  {
   "cell_type": "code",
   "execution_count": null,
   "id": "30761558-77f1-4ba3-8342-0c36dff75c95",
   "metadata": {},
   "outputs": [],
   "source": [
    "# Handle Missing Values"
   ]
  },
  {
   "cell_type": "code",
   "execution_count": 11,
   "id": "91fc315a-7b53-4be3-84b6-a873878006ea",
   "metadata": {},
   "outputs": [
    {
     "data": {
      "text/plain": [
       "\"\\nThe code implements a common data preprocessing step: \\nfilling in missing values (often represented as NaN or None in pandas). \\nThis process is called imputation, and it's critical because \\nmany machine learning algorithms cannot process datasets with missing values.\\n\\nNumerical columns → use mean or median.\\nCategorical columns → use mode (most frequent).\\n\""
      ]
     },
     "execution_count": 11,
     "metadata": {},
     "output_type": "execute_result"
    }
   ],
   "source": [
    "'''\n",
    "The code implements a common data preprocessing step: \n",
    "filling in missing values (often represented as NaN or None in pandas). \n",
    "This process is called imputation, and it's critical because \n",
    "many machine learning algorithms cannot process datasets with missing values.\n",
    "\n",
    "Numerical columns → use mean or median.\n",
    "Categorical columns → use mode (most frequent).\n",
    "'''"
   ]
  },
  {
   "cell_type": "code",
   "execution_count": 13,
   "id": "449b4f22-ddf5-4966-9e66-f471b065654f",
   "metadata": {},
   "outputs": [],
   "source": [
    "#df.select_dtypes(include=['int64', 'float64']).columns identifies all columns with numeric data types\n",
    "# For numerical columns\n",
    "numerical_cols = df.select_dtypes(include=['int64', 'float64']).columns\n",
    "'''\n",
    "For each numeric column, missing values are replaced with the median value of that column\n",
    "Using the median (rather than mean) is often preferred because it's less sensitive to outliers\n",
    "'''\n",
    "for col in numerical_cols:\n",
    "    df[col] = df[col].fillna(df[col].median())"
   ]
  },
  {
   "cell_type": "code",
   "execution_count": 18,
   "id": "92aa8f89-c45b-4d0a-a203-48b6f372949d",
   "metadata": {},
   "outputs": [
    {
     "data": {
      "text/plain": [
       "\"\\nWhy These Methods Were Chosen\\n\\nMedian for numerical data: The median represents the middle value when data is ordered.\\nIt's robust to outliers, unlike the mean which can be skewed by extreme values.\\nMode for categorical data: For categories, the most frequent value (mode) is a sensible replacement since concepts\\nlike mean or median don't apply to non-numeric data.\\n\""
      ]
     },
     "execution_count": 18,
     "metadata": {},
     "output_type": "execute_result"
    }
   ],
   "source": [
    "# For categorical columns\n",
    "#df.select_dtypes(include=['object']).columns finds all object-type columns (typically text/categorical data)\n",
    "categorical_cols = df.select_dtypes(include=['object']).columns\n",
    "for col in categorical_cols:\n",
    "    df[col] = df[col].fillna(df[col].mode()[0])\n",
    "\n",
    "'''\n",
    "For each categorical column, missing values are replaced with the mode (most frequent value)\n",
    ".mode()[0] is used because pandas' mode() function returns a Series (potentially with multiple values if there's a tie),\n",
    "so we take the first value\n",
    "'''\n",
    "\n",
    "'''\n",
    "Why These Methods Were Chosen\n",
    "\n",
    "Median for numerical data: The median represents the middle value when data is ordered.\n",
    "It's robust to outliers, unlike the mean which can be skewed by extreme values.\n",
    "Mode for categorical data: For categories, the most frequent value (mode) is a sensible replacement since concepts\n",
    "like mean or median don't apply to non-numeric data.\n",
    "'''"
   ]
  },
  {
   "cell_type": "code",
   "execution_count": 19,
   "id": "6b9809fd-5a62-48d7-b323-91021e025d5f",
   "metadata": {},
   "outputs": [],
   "source": [
    "#Label Encoding \n",
    "'''\n",
    "This code implements label encoding, which is a technique to convert categorical data (text or categories) into numeric form\n",
    "so that machine learning algorithms can process them.\n",
    "'''"
   ]
  },
  {
   "cell_type": "code",
   "execution_count": 21,
   "id": "3b690e18-45f1-4320-b49c-364171cdf697",
   "metadata": {},
   "outputs": [],
   "source": [
    "from sklearn.preprocessing import LabelEncoder\n",
    "le = LabelEncoder()\n",
    "for col in categorical_cols:\n",
    "    df[col] = le.fit_transform(df[col])\n"
   ]
  },
  {
   "cell_type": "code",
   "execution_count": 23,
   "id": "8d702405-cf75-4d33-90a9-c36468d5b7ec",
   "metadata": {},
   "outputs": [
    {
     "data": {
      "text/plain": [
       "'\\nExplanation:\\n\\n1. Import: First, the LabelEncoder class is imported from scikit-learn\\'s preprocessing module.\\n2. Initialization: An instance of LabelEncoder is created as le.\\n3. Loop Through Categorical Columns: The code iterates through each column previously identified as categorical (stored in categorical_cols).\\n4. Transformation: For each categorical column:\\n\\nfit_transform() does two things:\\n\\nfit: Learns the possible categories in the column\\ntransform: Converts each category to a unique integer\\n\\nFor example, if a column contains [\"red\", \"blue\", \"green\", \"red\", \"blue\"], it might be transformed to [2, 0, 1, 2, 0].\\n'"
      ]
     },
     "execution_count": 23,
     "metadata": {},
     "output_type": "execute_result"
    }
   ],
   "source": [
    "'''\n",
    "Explanation:\n",
    "\n",
    "1. Import: First, the LabelEncoder class is imported from scikit-learn's preprocessing module.\n",
    "2. Initialization: An instance of LabelEncoder is created as le.\n",
    "3. Loop Through Categorical Columns: The code iterates through each column previously identified as categorical (stored in categorical_cols).\n",
    "4. Transformation: For each categorical column:\n",
    "\n",
    "fit_transform() does two things:\n",
    "\n",
    "fit: Learns the possible categories in the column\n",
    "transform: Converts each category to a unique integer\n",
    "\n",
    "For example, if a column contains [\"red\", \"blue\", \"green\", \"red\", \"blue\"], it might be transformed to [2, 0, 1, 2, 0].\n",
    "'''"
   ]
  },
  {
   "cell_type": "code",
   "execution_count": null,
   "id": "db5b0d32-ddd8-4efe-9918-e0588df803f7",
   "metadata": {},
   "outputs": [],
   "source": [
    "# Normalize/Standardize the numerical features\n",
    "'''\n",
    "This code implements standardization (also called z-score normalization),\n",
    "a common preprocessing technique that transforms numerical features to have a mean of 0 and a standard deviation of 1.\n",
    "'''"
   ]
  },
  {
   "cell_type": "code",
   "execution_count": 24,
   "id": "06639a38-f688-42d6-a780-a032722e070e",
   "metadata": {},
   "outputs": [],
   "source": [
    "from sklearn.preprocessing import StandardScaler\n",
    "scaler = StandardScaler()\n",
    "df[numerical_cols] = scaler.fit_transform(df[numerical_cols])"
   ]
  },
  {
   "cell_type": "code",
   "execution_count": 28,
   "id": "b7f4968f-c76f-469c-b69e-ea5e49f9eff5",
   "metadata": {},
   "outputs": [
    {
     "data": {
      "text/plain": [
       "'Detailed Explanation:\\n\\nImport: The code begins by importing StandardScaler from scikit-learn\\'s preprocessing module.\\nInitialization: A StandardScaler object is created.\\nTransformation: The code applies the scaler to all numerical columns at once:\\n\\nfit_transform() does two operations:\\n\\nfit: Calculates the mean and standard deviation of each feature\\ntransform: Applies the formula: (x - mean) / standard_deviation\\n\\nResult: After transformation, each numerical feature will have:\\n\\nMean = 0\\nStandard deviation = 1\\nValues typically falling between -3 and +3\\n\\nWhy Standardization Matters:\\n\\n1. Algorithm Performance: Many machine learning algorithms perform better with standardized data,\\nespecially those that use distance calculations (like k-means clustering) or gradient descent optimization (like neural networks).\\n\\n2. Feature Importance Parity: It prevents features with larger scales from dominating the model\\'s learning process.\\nFor example, without scaling, \"income\" (in thousands) might overshadow \"age\" (in years).\\n\\n3. Convergence Speed: Gradient-based algorithms typically converge faster with standardized data.\\n'"
      ]
     },
     "execution_count": 28,
     "metadata": {},
     "output_type": "execute_result"
    }
   ],
   "source": [
    "'''Detailed Explanation:\n",
    "\n",
    "Import: The code begins by importing StandardScaler from scikit-learn's preprocessing module.\n",
    "Initialization: A StandardScaler object is created.\n",
    "Transformation: The code applies the scaler to all numerical columns at once:\n",
    "\n",
    "fit_transform() does two operations:\n",
    "\n",
    "fit: Calculates the mean and standard deviation of each feature\n",
    "transform: Applies the formula: (x - mean) / standard_deviation\n",
    "\n",
    "Result: After transformation, each numerical feature will have:\n",
    "\n",
    "Mean = 0\n",
    "Standard deviation = 1\n",
    "Values typically falling between -3 and +3\n",
    "\n",
    "Why Standardization Matters:\n",
    "\n",
    "1. Algorithm Performance: Many machine learning algorithms perform better with standardized data,\n",
    "especially those that use distance calculations (like k-means clustering) or gradient descent optimization (like neural networks).\n",
    "\n",
    "2. Feature Importance Parity: It prevents features with larger scales from dominating the model's learning process.\n",
    "For example, without scaling, \"income\" (in thousands) might overshadow \"age\" (in years).\n",
    "\n",
    "3. Convergence Speed: Gradient-based algorithms typically converge faster with standardized data.\n",
    "'''"
   ]
  },
  {
   "cell_type": "code",
   "execution_count": null,
   "id": "8540c8c4-e786-437a-93da-528fc65e264c",
   "metadata": {},
   "outputs": [],
   "source": [
    "# Visualize outliers using boxplots and remove them."
   ]
  },
  {
   "cell_type": "code",
   "execution_count": null,
   "id": "e3a6c0f9-a265-4747-bdc5-fb9b8ab7dd79",
   "metadata": {},
   "outputs": [],
   "source": [
    "# Part 1: Visualizing Outliers with Boxplots"
   ]
  },
  {
   "cell_type": "code",
   "execution_count": 32,
   "id": "345f5af4-7a1e-483c-b5d6-3bcb09e2d5ae",
   "metadata": {},
   "outputs": [
    {
     "name": "stdout",
     "output_type": "stream",
     "text": [
      "Defaulting to user installation because normal site-packages is not writeable\n",
      "Requirement already satisfied: seaborn in c:\\users\\91907\\appdata\\roaming\\python\\python312\\site-packages (0.13.2)\n",
      "Requirement already satisfied: numpy!=1.24.0,>=1.20 in c:\\users\\91907\\appdata\\roaming\\python\\python312\\site-packages (from seaborn) (1.26.4)\n",
      "Requirement already satisfied: pandas>=1.2 in c:\\users\\91907\\appdata\\roaming\\python\\python312\\site-packages (from seaborn) (2.2.2)\n",
      "Requirement already satisfied: matplotlib!=3.6.1,>=3.4 in c:\\users\\91907\\appdata\\roaming\\python\\python312\\site-packages (from seaborn) (3.10.0)\n",
      "Requirement already satisfied: contourpy>=1.0.1 in c:\\users\\91907\\appdata\\roaming\\python\\python312\\site-packages (from matplotlib!=3.6.1,>=3.4->seaborn) (1.3.1)\n",
      "Requirement already satisfied: cycler>=0.10 in c:\\users\\91907\\appdata\\roaming\\python\\python312\\site-packages (from matplotlib!=3.6.1,>=3.4->seaborn) (0.12.1)\n",
      "Requirement already satisfied: fonttools>=4.22.0 in c:\\users\\91907\\appdata\\roaming\\python\\python312\\site-packages (from matplotlib!=3.6.1,>=3.4->seaborn) (4.55.3)\n",
      "Requirement already satisfied: kiwisolver>=1.3.1 in c:\\users\\91907\\appdata\\roaming\\python\\python312\\site-packages (from matplotlib!=3.6.1,>=3.4->seaborn) (1.4.8)\n",
      "Requirement already satisfied: packaging>=20.0 in c:\\users\\91907\\appdata\\roaming\\python\\python312\\site-packages (from matplotlib!=3.6.1,>=3.4->seaborn) (24.1)\n",
      "Requirement already satisfied: pillow>=8 in c:\\users\\91907\\appdata\\roaming\\python\\python312\\site-packages (from matplotlib!=3.6.1,>=3.4->seaborn) (10.4.0)\n",
      "Requirement already satisfied: pyparsing>=2.3.1 in c:\\users\\91907\\appdata\\roaming\\python\\python312\\site-packages (from matplotlib!=3.6.1,>=3.4->seaborn) (3.2.0)\n",
      "Requirement already satisfied: python-dateutil>=2.7 in c:\\users\\91907\\appdata\\roaming\\python\\python312\\site-packages (from matplotlib!=3.6.1,>=3.4->seaborn) (2.9.0.post0)\n",
      "Requirement already satisfied: pytz>=2020.1 in c:\\users\\91907\\appdata\\roaming\\python\\python312\\site-packages (from pandas>=1.2->seaborn) (2024.2)\n",
      "Requirement already satisfied: tzdata>=2022.7 in c:\\users\\91907\\appdata\\roaming\\python\\python312\\site-packages (from pandas>=1.2->seaborn) (2024.1)\n",
      "Requirement already satisfied: six>=1.5 in c:\\users\\91907\\appdata\\roaming\\python\\python312\\site-packages (from python-dateutil>=2.7->matplotlib!=3.6.1,>=3.4->seaborn) (1.16.0)\n"
     ]
    },
    {
     "name": "stderr",
     "output_type": "stream",
     "text": [
      "\n",
      "[notice] A new release of pip is available: 24.3.1 -> 25.1\n",
      "[notice] To update, run: python.exe -m pip install --upgrade pip\n"
     ]
    }
   ],
   "source": [
    "!pip install seaborn"
   ]
  },
  {
   "cell_type": "code",
   "execution_count": 35,
   "id": "642db637-5ca0-45a6-ad8f-09d0f80bbc54",
   "metadata": {},
   "outputs": [
    {
     "data": {
      "image/png": "[encoded data removed]",
      "text/plain": [
       "<Figure size 800x400 with 1 Axes>"
      ]
     },
     "metadata": {},
     "output_type": "display_data"
    },
    {
     "data": {
      "image/png": "[encoded data removed]",
      "text/plain": [
       "<Figure size 800x400 with 1 Axes>"
      ]
     },
     "metadata": {},
     "output_type": "display_data"
    },
    {
     "data": {
      "image/png": "[encoded data removed]",
      "text/plain": [
       "<Figure size 800x400 with 1 Axes>"
      ]
     },
     "metadata": {},
     "output_type": "display_data"
    },
    {
     "data": {
      "image/png": "[encoded data removed]",
      "text/plain": [
       "<Figure size 800x400 with 1 Axes>"
      ]
     },
     "metadata": {},
     "output_type": "display_data"
    },
    {
     "data": {
      "image/png": "[encoded data removed]",
      "text/plain": [
       "<Figure size 800x400 with 1 Axes>"
      ]
     },
     "metadata": {},
     "output_type": "display_data"
    },
    {
     "data": {
      "image/png": "[encoded data removed]",
      "text/plain": [
       "<Figure size 800x400 with 1 Axes>"
      ]
     },
     "metadata": {},
     "output_type": "display_data"
    },
    {
     "data": {
      "image/png": "[encoded data removed]",
      "text/plain": [
       "<Figure size 800x400 with 1 Axes>"
      ]
     },
     "metadata": {},
     "output_type": "display_data"
    }
   ],
   "source": [
    "import matplotlib.pyplot as plt\n",
    "import seaborn as sns\n",
    "\n",
    "# Plot boxplots for all numerical columns\n",
    "for col in numerical_cols:\n",
    "    plt.figure(figsize=(8, 4))\n",
    "    sns.boxplot(x=df[col])\n",
    "    plt.title(f'Boxplot of {col}')\n",
    "    plt.show()\n",
    "    "
   ]
  },
  {
   "cell_type": "code",
   "execution_count": 37,
   "id": "454eac01-1bb4-4f4f-a5c1-241edb24dc8e",
   "metadata": {},
   "outputs": [
    {
     "data": {
      "text/plain": [
       "'\\nThis code creates boxplots for each numerical column to visually identify outliers:\\n\\n1. Import Visualization Libraries: Matplotlib for plotting basics and Seaborn for statistical visualizations\\n2. Loop Through Columns: For each numerical column, it creates a separate visualization\\n3. Create Boxplot: Generates a horizontal boxplot showing the distribution\\n4. Display: Shows the plot with a title indicating which column is being visualized\\n\\nBoxplots show:\\n\\n1. The median (middle line)\\n2. Interquartile range (IQR) - the box showing middle 50% of data\\n3. Whiskers extending to 1.5 × IQR\\n4. Points beyond whiskers representing potential outliers\\n'"
      ]
     },
     "execution_count": 37,
     "metadata": {},
     "output_type": "execute_result"
    }
   ],
   "source": [
    "'''\n",
    "This code creates boxplots for each numerical column to visually identify outliers:\n",
    "\n",
    "1. Import Visualization Libraries: Matplotlib for plotting basics and Seaborn for statistical visualizations\n",
    "2. Loop Through Columns: For each numerical column, it creates a separate visualization\n",
    "3. Create Boxplot: Generates a horizontal boxplot showing the distribution\n",
    "4. Display: Shows the plot with a title indicating which column is being visualized\n",
    "\n",
    "Boxplots show:\n",
    "\n",
    "1. The median (middle line)\n",
    "2. Interquartile range (IQR) - the box showing middle 50% of data\n",
    "3. Whiskers extending to 1.5 × IQR\n",
    "4. Points beyond whiskers representing potential outliers\n",
    "'''"
   ]
  },
  {
   "cell_type": "code",
   "execution_count": 38,
   "id": "92d97824-4168-4e7c-922d-34df0542f762",
   "metadata": {},
   "outputs": [],
   "source": [
    "# Removing Outliers using IQR Method"
   ]
  },
  {
   "cell_type": "code",
   "execution_count": 39,
   "id": "e6bf6b0b-32ae-4d01-ba3d-2085ff6d4df2",
   "metadata": {},
   "outputs": [],
   "source": [
    "# Remove outliers\n",
    "for col in numerical_cols:\n",
    "    Q1 = df[col].quantile(0.25)\n",
    "    Q3 = df[col].quantile(0.75)\n",
    "    IQR = Q3 - Q1\n",
    "    df = df[~((df[col] < (Q1 - 1.5 * IQR)) | (df[col] > (Q3 + 1.5 * IQR)))]"
   ]
  },
  {
   "cell_type": "code",
   "execution_count": null,
   "id": "c6db21af-0371-4803-b3d7-bd95ed79770b",
   "metadata": {},
   "outputs": [],
   "source": [
    "'''\n",
    "This code implements the standard IQR method for outlier(An outlier is a data point that differs significantly from other\n",
    "observations in a dataset. These are values that fall far away from the majority of data points and don't follow the general pattern\n",
    "or distribution of the data.) removal:\n",
    "\n",
    "Calculate Q1 & Q3: The 25th and 75th percentiles for each column\n",
    "Calculate IQR: The difference between Q3 and Q1\n",
    "Define Outlier Boundaries:\n",
    "\n",
    "Lower bound: Q1 - 1.5 × IQR\n",
    "Upper bound: Q3 + 1.5 × IQR\n",
    "\n",
    "\n",
    "Filter Dataset: Remove rows with values outside these boundaries\n",
    "\n",
    "~ operator negates the condition to keep non-outliers\n",
    "The expression removes rows where ANY column's value is an outlier\n",
    "'''"
   ]
  }
 ],
 "metadata": {
  "kernelspec": {
   "display_name": "Python 3 (ipykernel)",
   "language": "python",
   "name": "python3"
  },
  "language_info": {
   "codemirror_mode": {
    "name": "ipython",
    "version": 3
   },
   "file_extension": ".py",
   "mimetype": "text/x-python",
   "name": "python",
   "nbconvert_exporter": "python",
   "pygments_lexer": "ipython3",
   "version": "3.12.2"
  }
 },
 "nbformat": 4,
 "nbformat_minor": 5
}
